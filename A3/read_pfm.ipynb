{
 "cells": [
  {
   "cell_type": "code",
   "execution_count": 2,
   "metadata": {},
   "outputs": [],
   "source": [
    "import sys\n",
    "import re\n",
    "from struct import *\n",
    "import numpy as np\n",
    "from matplotlib import pyplot as plt\n",
    "\n",
    "def read_pfm(file):\n",
    "    # Adopted from https://stackoverflow.com/questions/37073108/how-to-read-pfm-files-provided-with-middlebury-dataset?rq=1\n",
    "    with open(file, \"rb\") as f:\n",
    "        # Line 1: PF=>RGB (3 channels), Pf=>Greyscale (1 channel)\n",
    "        type = f.readline().decode('latin-1')\n",
    "        if \"PF\" in type:\n",
    "            channels = 3\n",
    "        elif \"Pf\" in type:\n",
    "            channels = 1\n",
    "        else:\n",
    "            sys.exit(1)\n",
    "        # Line 2: width height\n",
    "        line = f.readline().decode('latin-1')\n",
    "        width, height = re.findall('\\d+', line)\n",
    "        width = int(width)\n",
    "        height = int(height)\n",
    "\n",
    "        # Line 3: +ve number means big endian, negative means little endian\n",
    "        line = f.readline().decode('latin-1')\n",
    "        BigEndian = True\n",
    "        if \"-\" in line:\n",
    "            BigEndian = False\n",
    "        # Slurp all binary data\n",
    "        samples = width * height * channels;\n",
    "        buffer = f.read(samples * 4)\n",
    "        # Unpack floats with appropriate endianness\n",
    "        if BigEndian:\n",
    "            fmt = \">\"\n",
    "        else:\n",
    "            fmt = \"<\"\n",
    "        fmt = fmt + str(samples) + \"f\"\n",
    "        img = unpack(fmt, buffer)\n",
    "        img = np.flipud(np.array(img).reshape(height, width))\n",
    "    return img"
   ]
  },
  {
   "cell_type": "code",
   "execution_count": 1,
   "metadata": {},
   "outputs": [
    {
     "ename": "NameError",
     "evalue": "name 'read_pfm' is not defined",
     "output_type": "error",
     "traceback": [
      "\u001b[1;31m---------------------------------------------------------------------------\u001b[0m",
      "\u001b[1;31mNameError\u001b[0m                                 Traceback (most recent call last)",
      "\u001b[1;32m<ipython-input-1-90ad267aa80b>\u001b[0m in \u001b[0;36m<module>\u001b[1;34m()\u001b[0m\n\u001b[0;32m      1\u001b[0m \u001b[1;31m# example usage\u001b[0m\u001b[1;33m\u001b[0m\u001b[1;33m\u001b[0m\u001b[0m\n\u001b[1;32m----> 2\u001b[1;33m \u001b[0mdepth_img\u001b[0m \u001b[1;33m=\u001b[0m \u001b[0mread_pfm\u001b[0m\u001b[1;33m(\u001b[0m\u001b[1;34m'disp1.pfm'\u001b[0m\u001b[1;33m)\u001b[0m\u001b[1;33m\u001b[0m\u001b[0m\n\u001b[0m\u001b[0;32m      3\u001b[0m \u001b[1;31m# replace all Inf depth with 0 <==> undefined depth\u001b[0m\u001b[1;33m\u001b[0m\u001b[1;33m\u001b[0m\u001b[0m\n\u001b[0;32m      4\u001b[0m \u001b[0mdepth_img\u001b[0m\u001b[1;33m[\u001b[0m\u001b[0mdepth_img\u001b[0m\u001b[1;33m==\u001b[0m\u001b[0mnp\u001b[0m\u001b[1;33m.\u001b[0m\u001b[0minf\u001b[0m\u001b[1;33m]\u001b[0m \u001b[1;33m=\u001b[0m \u001b[1;36m0\u001b[0m\u001b[1;33m\u001b[0m\u001b[0m\n\u001b[0;32m      5\u001b[0m \u001b[0mplt\u001b[0m\u001b[1;33m.\u001b[0m\u001b[0mimshow\u001b[0m\u001b[1;33m(\u001b[0m\u001b[0mdepth_img\u001b[0m\u001b[1;33m)\u001b[0m\u001b[1;33m;\u001b[0m \u001b[0mplt\u001b[0m\u001b[1;33m.\u001b[0m\u001b[0maxis\u001b[0m\u001b[1;33m(\u001b[0m\u001b[1;34m'off'\u001b[0m\u001b[1;33m)\u001b[0m\u001b[1;33m;\u001b[0m \u001b[0mplt\u001b[0m\u001b[1;33m.\u001b[0m\u001b[0mshow\u001b[0m\u001b[1;33m(\u001b[0m\u001b[1;33m)\u001b[0m\u001b[1;33m\u001b[0m\u001b[0m\n",
      "\u001b[1;31mNameError\u001b[0m: name 'read_pfm' is not defined"
     ]
    }
   ],
   "source": [
    "# example usage\n",
    "depth_img = read_pfm('disp1.pfm')\n",
    "# replace all Inf depth with 0 <==> undefined depth\n",
    "depth_img[depth_img==np.inf] = 0\n",
    "plt.imshow(depth_img); plt.axis('off'); plt.show()"
   ]
  },
  {
   "cell_type": "code",
   "execution_count": null,
   "metadata": {
    "collapsed": true
   },
   "outputs": [],
   "source": []
  }
 ],
 "metadata": {
  "kernelspec": {
   "display_name": "Python 3",
   "language": "python",
   "name": "python3"
  },
  "language_info": {
   "codemirror_mode": {
    "name": "ipython",
    "version": 3
   },
   "file_extension": ".py",
   "mimetype": "text/x-python",
   "name": "python",
   "nbconvert_exporter": "python",
   "pygments_lexer": "ipython3",
   "version": "3.5.5"
  }
 },
 "nbformat": 4,
 "nbformat_minor": 2
}
